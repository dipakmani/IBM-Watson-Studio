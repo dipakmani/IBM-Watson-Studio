{
 "cells": [
  {
   "cell_type": "markdown",
   "id": "12876047",
   "metadata": {},
   "source": [
    "# My Jupyter Notebook on IBM Watson Studio"
   ]
  },
  {
   "cell_type": "code",
   "execution_count": null,
   "id": "1b06188a",
   "metadata": {},
   "outputs": [],
   "source": [
    "__DipakMani__\n",
    "I am in the Capgemini company\n",
    "B.E Electrical"
   ]
  },
  {
   "cell_type": "code",
   "execution_count": null,
   "id": "06a0d310",
   "metadata": {},
   "outputs": [],
   "source": [
    "I am interested in data science because challenging work here, plenty of job options in the future, and \n",
    "i am interesting mostly in mathematics. "
   ]
  },
  {
   "cell_type": "markdown",
   "id": "ed953fe5",
   "metadata": {},
   "source": [
    "### I am doing addition in cell 5 as 1 + 1 = 2"
   ]
  },
  {
   "cell_type": "code",
   "execution_count": 6,
   "id": "ed70b63b",
   "metadata": {},
   "outputs": [
    {
     "name": "stdout",
     "output_type": "stream",
     "text": [
      "3\n"
     ]
    }
   ],
   "source": [
    "a = 1\n",
    "b = 2\n",
    "print(a+b)"
   ]
  },
  {
   "cell_type": "markdown",
   "id": "976dc630",
   "metadata": {},
   "source": [
    "1) Horizontal Rule\n",
    "To create a horizontal rule, use three or more asterisks ( *** ), dashes ( --- ), or underscores ( ___ ) on a line by themselves.\n",
    "2) bulleted list\n",
    "A hyphen (-) followed by one or two spaces, for example: - Bulleted item.\n",
    "A space, a hyphen (-) and a space, for example: - Bulleted item.\n",
    "An asterisk (*) followed by one or two spaces, for example: * Bulleted item.\n",
    "3) Numbered list\n",
    "a numbered list in Jupyter Notebook? Use the number sign (#) followed by a blank space for notebook titles and section headings: # for titles. ## for major headings. ### for subheadings."
   ]
  }
 ],
 "metadata": {
  "kernelspec": {
   "display_name": "Python 3 (ipykernel)",
   "language": "python",
   "name": "python3"
  },
  "language_info": {
   "codemirror_mode": {
    "name": "ipython",
    "version": 3
   },
   "file_extension": ".py",
   "mimetype": "text/x-python",
   "name": "python",
   "nbconvert_exporter": "python",
   "pygments_lexer": "ipython3",
   "version": "3.9.7"
  }
 },
 "nbformat": 4,
 "nbformat_minor": 5
}
